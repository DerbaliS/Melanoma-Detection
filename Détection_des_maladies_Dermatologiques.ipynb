{
  "nbformat": 4,
  "nbformat_minor": 0,
  "metadata": {
    "colab": {
      "provenance": [],
      "collapsed_sections": [],
      "authorship_tag": "ABX9TyNl3uYANKfXGlotydnqnoLg",
      "include_colab_link": true
    },
    "kernelspec": {
      "name": "python3",
      "display_name": "Python 3"
    },
    "language_info": {
      "name": "python"
    }
  },
  "cells": [
    {
      "cell_type": "markdown",
      "metadata": {
        "id": "view-in-github",
        "colab_type": "text"
      },
      "source": [
        "<a href=\"https://colab.research.google.com/github/DerbaliS/Coursera-test/blob/master/D%C3%A9tection_des_maladies_Dermatologiques.ipynb\" target=\"_parent\"><img src=\"https://colab.research.google.com/assets/colab-badge.svg\" alt=\"Open In Colab\"/></a>"
      ]
    },
    {
      "cell_type": "code",
      "source": [
        "!pip install tensorflow "
      ],
      "metadata": {
        "id": "a86bjn0hcNs0"
      },
      "execution_count": null,
      "outputs": []
    },
    {
      "cell_type": "code",
      "source": [
        "from google.colab import drive\n",
        "drive.mount('/content/drive',force_remount=True)"
      ],
      "metadata": {
        "id": "oBVXJwy6Z8Lv"
      },
      "execution_count": null,
      "outputs": []
    },
    {
      "cell_type": "code",
      "execution_count": null,
      "metadata": {
        "id": "7hXl3MguVhCw"
      },
      "outputs": [],
      "source": [
        "\n",
        "import tensorflow \n",
        "from keras.preprocessing.image import ImageDataGenerator\n",
        "from keras.preprocessing import image\n",
        "from keras.callbacks import EarlyStopping, ModelCheckpoint\n",
        "from keras.models import Sequential, Model\n",
        "from keras.layers import Conv2D, MaxPooling2D\n",
        "from keras.layers import Activation, Dropout, Flatten, Dense\n",
        "from keras import optimizers\n",
        "from tensorflow.keras.applications import VGG16\n",
        "\n",
        "\n",
        "import cv2\n",
        "\n",
        "\n",
        "import os\n",
        "os.chdir('/content/drive/My Drive/PFE')\n",
        "\n",
        "\n",
        "import numpy as np\n",
        "import itertools\n",
        "import random\n",
        "from collections import Counter\n",
        "from glob import iglob\n",
        "\n",
        "\n",
        "import warnings\n",
        "warnings.filterwarnings('ignore')\n",
        "\n",
        "\n",
        "from sklearn.metrics import confusion_matrix, classification_report\n",
        "\n",
        "\n",
        "import matplotlib.pyplot as plt\n",
        "%matplotlib inline "
      ]
    },
    {
      "cell_type": "code",
      "source": [
        "# Set dataset folder path\n",
        "BASE_DATASET_FOLDER = os.path.join('/content/drive/My Drive/PFE/dataset')\n",
        "TRAIN_FOLDER = \"train\"\n",
        "VALIDATION_FOLDER = \"validation\"\n",
        "TEST_FOLDER = \"test\"\n",
        "\n",
        "\n",
        "IMAGE_SIZE = (224, 224)\n",
        "INPUT_SHAPE = (224, 224, 3)\n",
        "\n",
        "TRAIN_BATCH_SIZE = 64\n",
        "VAL_BATCH_SIZE = 8\n",
        "EPOCHS = 50\n",
        "LEARNING_RATE = 0.0001\n",
        "MODEL_PATH = os.path.join(\"derma_diseases_detection.h5\")"
      ],
      "metadata": {
        "id": "6nAU0_jSVp-0"
      },
      "execution_count": null,
      "outputs": []
    },
    {
      "cell_type": "code",
      "source": [
        "BASE_DATASET_FOLDER"
      ],
      "metadata": {
        "id": "V6z1h5NyeFa5"
      },
      "execution_count": null,
      "outputs": []
    },
    {
      "cell_type": "code",
      "source": [
        "def percentage_value(pct, allvals):\n",
        "    absolute = int(pct/100.*np.sum(allvals))\n",
        "    return \"{:.1f}%\\n({:d})\".format(pct, absolute)\n",
        "\n",
        "def plot_dataset_description(path, title):\n",
        "    classes = []\n",
        "    for filename in iglob(os.path.join(path, \"**\",\"*.jpg\")):\n",
        "        classes.append(os.path.split(os.path.split(filename)[0])[-1])\n",
        "\n",
        "    classes_cnt = Counter(classes)\n",
        "    values = list(classes_cnt.values())\n",
        "    labels = list(classes_cnt.keys())\n",
        "\n",
        "    plt.figure(figsize=(8,8))\n",
        "    plt.pie(values, labels=labels, autopct=lambda pct: percentage_value(pct, values), \n",
        "            shadow=True, startangle=140)\n",
        "\n",
        "    plt.title(title)    \n",
        "    plt.show()"
      ],
      "metadata": {
        "id": "BxMPCIhcV-0n"
      },
      "execution_count": null,
      "outputs": []
    },
    {
      "cell_type": "code",
      "source": [
        "train_datagen = ImageDataGenerator(\n",
        "        rescale=1./255,\n",
        "        width_shift_range=0.2,\n",
        "        height_shift_range=0.2,\n",
        "        horizontal_flip=True,\n",
        "        fill_mode='nearest')\n",
        "\n",
        "train_generator = train_datagen.flow_from_directory(\n",
        "        os.path.join(BASE_DATASET_FOLDER, TRAIN_FOLDER),\n",
        "        target_size=IMAGE_SIZE,\n",
        "        batch_size=TRAIN_BATCH_SIZE,\n",
        "        class_mode='categorical', \n",
        "        shuffle=True)"
      ],
      "metadata": {
        "id": "cDWEJEKEWEq8"
      },
      "execution_count": null,
      "outputs": []
    },
    {
      "cell_type": "code",
      "source": [
        "plot_dataset_description(os.path.join(BASE_DATASET_FOLDER, TRAIN_FOLDER), \"Train folder description\")"
      ],
      "metadata": {
        "id": "IDYUrwm7WS1P"
      },
      "execution_count": null,
      "outputs": []
    },
    {
      "cell_type": "code",
      "source": [
        "val_datagen = ImageDataGenerator(rescale=1./255)\n",
        "val_generator = val_datagen.flow_from_directory(\n",
        "        os.path.join(BASE_DATASET_FOLDER, VALIDATION_FOLDER),\n",
        "        target_size=IMAGE_SIZE,\n",
        "        class_mode='categorical', \n",
        "        shuffle=False)"
      ],
      "metadata": {
        "id": "AJpwsnxQWZZg"
      },
      "execution_count": null,
      "outputs": []
    },
    {
      "cell_type": "code",
      "source": [
        "plot_dataset_description(os.path.join(BASE_DATASET_FOLDER, VALIDATION_FOLDER), \"Validation folder description\")"
      ],
      "metadata": {
        "id": "CkRCH-OfWnIY"
      },
      "execution_count": null,
      "outputs": []
    },
    {
      "cell_type": "code",
      "source": [
        "test_datagen = ImageDataGenerator(rescale=1./255)\n",
        "test_generator = test_datagen.flow_from_directory(\n",
        "        os.path.join(BASE_DATASET_FOLDER, TEST_FOLDER),\n",
        "        target_size=IMAGE_SIZE,\n",
        "        batch_size=VAL_BATCH_SIZE,\n",
        "        class_mode='categorical', \n",
        "        shuffle=False)"
      ],
      "metadata": {
        "id": "wTtBTbcMWxkx"
      },
      "execution_count": null,
      "outputs": []
    },
    {
      "cell_type": "code",
      "source": [
        "plot_dataset_description(os.path.join(BASE_DATASET_FOLDER, TEST_FOLDER), \"Test folder description\")"
      ],
      "metadata": {
        "id": "aYuqh1ESW4RP"
      },
      "execution_count": null,
      "outputs": []
    },
    {
      "cell_type": "code",
      "source": [
        "classes = {v: k for k, v in train_generator.class_indices.items()}\n",
        "print(classes)"
      ],
      "metadata": {
        "id": "aPxMi51xXDv9"
      },
      "execution_count": null,
      "outputs": []
    },
    {
      "cell_type": "code",
      "source": [
        "vgg_model = VGG16(weights='imagenet', include_top=False, input_shape=INPUT_SHAPE)"
      ],
      "metadata": {
        "id": "urERoumKXJqX"
      },
      "execution_count": null,
      "outputs": []
    },
    {
      "cell_type": "code",
      "source": [
        "for layer in vgg_model.layers[:-4]:\n",
        "    layer.trainable = False"
      ],
      "metadata": {
        "id": "8Vir90UaXP7R"
      },
      "execution_count": null,
      "outputs": []
    },
    {
      "cell_type": "code",
      "source": [
        "# Create the model\n",
        "model = Sequential()\n",
        " \n",
        "# Add the vgg convolutional base model\n",
        "model.add(vgg_model)\n",
        " \n",
        "# Add new layers\n",
        "model.add(Flatten())\n",
        "model.add(Dense(256, activation='relu'))\n",
        "model.add(Dropout(0.2))\n",
        "model.add(Dense(128, activation='relu'))\n",
        "model.add(Dropout(0.5))\n",
        "model.add(Dense(len(classes), activation='softmax'))"
      ],
      "metadata": {
        "id": "7grWayHUXX73"
      },
      "execution_count": null,
      "outputs": []
    },
    {
      "cell_type": "code",
      "source": [
        "# Show a summary of the model. Check the number of trainable parameters\n",
        "model.summary()"
      ],
      "metadata": {
        "id": "diHu7k4oXdFg"
      },
      "execution_count": null,
      "outputs": []
    },
    {
      "cell_type": "code",
      "source": [
        "# Compile the model\n",
        "model.compile(loss='categorical_crossentropy',\n",
        "              optimizer = tensorflow.keras.optimizers.Adam(lr=LEARNING_RATE),\n",
        "              metrics=['acc'])"
      ],
      "metadata": {
        "id": "79ri4y8lXeUq"
      },
      "execution_count": null,
      "outputs": []
    },
    {
      "cell_type": "code",
      "source": [
        "%%time\n",
        "history = model.fit_generator(\n",
        "        train_generator,\n",
        "        steps_per_epoch=train_generator.samples//train_generator.batch_size,\n",
        "        epochs=EPOCHS,\n",
        "        validation_data=val_generator,\n",
        "        validation_steps=val_generator.samples//val_generator.batch_size)"
      ],
      "metadata": {
        "id": "MiTfe2n2X1bT"
      },
      "execution_count": null,
      "outputs": []
    },
    {
      "cell_type": "code",
      "source": [
        "model.save(MODEL_PATH)"
      ],
      "metadata": {
        "id": "rh-ElNoIX_Qw"
      },
      "execution_count": null,
      "outputs": []
    },
    {
      "cell_type": "code",
      "source": [
        "acc = history.history['acc']\n",
        "val_acc = history.history['val_acc']\n",
        "loss = history.history['loss']\n",
        "val_loss = history.history['val_loss']\n",
        " \n",
        "epochs = range(len(acc))\n",
        " \n",
        "plt.plot(epochs, acc, 'b', label='Training acc')\n",
        "plt.plot(epochs, val_acc, 'r', label='Validation acc')\n",
        "plt.title('Training and validation accuracy')\n",
        "plt.legend()\n",
        " \n",
        "plt.figure()\n",
        " \n",
        "plt.plot(epochs, loss, 'b', label='Training loss')\n",
        "plt.plot(epochs, val_loss, 'r', label='Validation loss')\n",
        "plt.title('Training and validation loss')\n",
        "plt.legend()\n",
        " \n",
        "plt.show()\n"
      ],
      "metadata": {
        "id": "A2TKFWRKYL03"
      },
      "execution_count": null,
      "outputs": []
    },
    {
      "cell_type": "code",
      "source": [
        "%%time\n",
        "loss, accuracy = model.evaluate_generator(test_generator,steps=test_generator.samples//test_generator.batch_size)"
      ],
      "metadata": {
        "id": "G7KLFNjDYS3i"
      },
      "execution_count": null,
      "outputs": []
    },
    {
      "cell_type": "code",
      "source": [
        "print(\"Accuracy: %f\\nLoss: %f\" % (accuracy,loss))"
      ],
      "metadata": {
        "id": "pdGECHbTYYfR"
      },
      "execution_count": null,
      "outputs": []
    },
    {
      "cell_type": "code",
      "source": [
        "%%time\n",
        "Y_pred = model.predict_generator(test_generator,verbose=1, steps=test_generator.samples//test_generator.batch_size)"
      ],
      "metadata": {
        "id": "sIw65QPGYdQK"
      },
      "execution_count": null,
      "outputs": []
    },
    {
      "cell_type": "code",
      "source": [
        "y_pred = np.argmax(Y_pred, axis=1)"
      ],
      "metadata": {
        "id": "LfU4zSDfYkZR"
      },
      "execution_count": null,
      "outputs": []
    },
    {
      "cell_type": "code",
      "source": [
        "cnf_matrix = confusion_matrix(test_generator.classes, y_pred)"
      ],
      "metadata": {
        "id": "KbiVRvnRYmJq"
      },
      "execution_count": null,
      "outputs": []
    },
    {
      "cell_type": "code",
      "source": [
        "def plot_confusion_matrix(cm, classes,\n",
        "                          title='Confusion matrix',\n",
        "                          cmap=plt.cm.Blues):\n",
        "\n",
        "    cm = cm.astype('float') / cm.sum(axis=1)[:, np.newaxis]\n",
        "    \n",
        "    plt.figure(figsize=(12,12))\n",
        "\n",
        "    plt.imshow(cm, interpolation='nearest', cmap=cmap)\n",
        "    plt.title(title, fontsize=18)\n",
        "    plt.colorbar()\n",
        "    tick_marks = np.arange(len(classes))\n",
        "    plt.xticks(tick_marks, classes, rotation=45, fontsize=8)\n",
        "    plt.yticks(tick_marks, classes, fontsize=12)\n",
        "\n",
        "    fmt = '.2f'\n",
        "    thresh = cm.max() / 2.\n",
        "    for i, j in itertools.product(range(cm.shape[0]), range(cm.shape[1])):\n",
        "        plt.text(j, i, format(cm[i, j], fmt),\n",
        "                 horizontalalignment=\"center\",\n",
        "                 color=\"white\" if cm[i, j] > thresh else \"black\")\n",
        "\n",
        "    plt.ylabel('True label', fontsize=16)\n",
        "    plt.xlabel('Predicted label', fontsize=16)"
      ],
      "metadata": {
        "id": "jKpqb5e7YuSI"
      },
      "execution_count": null,
      "outputs": []
    },
    {
      "cell_type": "code",
      "source": [
        "plot_confusion_matrix(cnf_matrix, list(classes.values()))"
      ],
      "metadata": {
        "id": "vYfthWnxZM-m"
      },
      "execution_count": null,
      "outputs": []
    },
    {
      "cell_type": "code",
      "source": [
        "print(classification_report(test_generator.classes, y_pred, target_names=list(classes.values())))"
      ],
      "metadata": {
        "id": "Yz0b4q7jZRuT"
      },
      "execution_count": null,
      "outputs": []
    },
    {
      "cell_type": "code",
      "source": [
        "def load_image(filename):\n",
        "    img = cv2.imread(os.path.join(BASE_DATASET_FOLDER, TEST_FOLDER, filename))\n",
        "    img = cv2.resize(img, (IMAGE_SIZE[0], IMAGE_SIZE[1]) )\n",
        "    img = img /255\n",
        "    \n",
        "    return img\n",
        "\n",
        "\n",
        "def predict(image):\n",
        "    probabilities = model.predict(np.asarray([img]))[0]\n",
        "    class_idx = np.argmax(probabilities)\n",
        "    \n",
        "    return {classes[class_idx]: probabilities[class_idx]}"
      ],
      "metadata": {
        "id": "eI9aUv4ZZX_S"
      },
      "execution_count": null,
      "outputs": []
    },
    {
      "cell_type": "code",
      "source": [
        "for idx, filename in enumerate(random.sample(test_generator.filenames, 1)):\n",
        "    print(\"SOURCE: class: %s, file: %s\" % (os.path.split(filename)[0], filename))\n",
        "    \n",
        "    img = load_image(filename)\n",
        "    prediction = predict(img)\n",
        "    print(\"PREDICTED: class: %s, confidence: %f\" % (list(prediction.keys())[0], list(prediction.values())[0]))\n",
        "    plt.imshow(img)\n",
        "    plt.figure(idx)    \n",
        "    plt.show()"
      ],
      "metadata": {
        "id": "87qDhfL3ZekZ"
      },
      "execution_count": null,
      "outputs": []
    }
  ]
}